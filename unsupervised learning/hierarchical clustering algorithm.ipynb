{
 "cells": [
  {
   "cell_type": "markdown",
   "id": "1d8a419a",
   "metadata": {},
   "source": [
    "### ***Hierarchical Clustering***\n",
    "\n",
    "Hierarchical clustering is another cluster-based algorithm that builds a hierarchy of clusters either by agglomerative (bottom-up) or divisive (top-down) approaches. It does not require specifying the number of clusters in advance and produces a dendrogram to visualize the cluster hierarchy.\n"
   ]
  },
  {
   "attachments": {
    "image.png": {
     "image/png": "[encoded data removed]"
    }
   },
   "cell_type": "markdown",
   "id": "77ec8033",
   "metadata": {},
   "source": [
    "***Dendrogram***\n",
    "\n",
    "It is a tree-like diagram that illustrates the arrangement of clusters produced by hierarchical clustering. It shows the relationships between data points and how they are grouped together at various levels of similarity. The vertical axis represents the distance or dissimilarity between clusters, while the horizontal axis represents the individual data points or clusters. By cutting the dendrogram at a specific height, one can determine the number of clusters in the data.\n",
    "\n",
    "![image.png](attachment:image.png)"
   ]
  },
  {
   "cell_type": "markdown",
   "id": "ff892ea8",
   "metadata": {},
   "source": [
    "***Types of Hierarchical Clustering***\n",
    "\n",
    "| Type                          | Description                                                                                                                         |\n",
    "| ----------------------------- | ----------------------------------------------------------------------------------------------------------------------------------- |\n",
    "| **Agglomerative (Bottom-Up)** | Start with each point as its own cluster, then **merge** closest clusters step-by-step until one big cluster remains. (Most common) |\n",
    "| **Divisive (Top-Down)**       | Start with one big cluster and **split** it repeatedly into smaller clusters. (Less common)                                         |\n"
   ]
  },
  {
   "cell_type": "markdown",
   "id": "82471480",
   "metadata": {},
   "source": [
    "How It Works (Agglomerative Hierarchical Clustering)\n",
    "- Start — Each data point is its own cluster.\n",
    "- Compute distance matrix — Find distances between all pairs of clusters (usually Euclidean).\n",
    "\n",
    "- Merge the two closest clusters.\n",
    "\n",
    "- Recompute distances between the new cluster and all others.\n",
    "\n",
    "- Repeat steps 3–4 until all points belong to one single cluster.\n",
    "\n",
    "- Cut the dendrogram at a chosen level to get your desired number of clusters."
   ]
  },
  {
   "cell_type": "markdown",
   "id": "db7e4c04",
   "metadata": {},
   "source": [
    "**📏 Linkage Methods (Distance Between Clusters)**\n",
    "\n",
    "| Method               | How Distance is Calculated                  | Characteristics                |\n",
    "| -------------------- | ------------------------------------------- | ------------------------------ |\n",
    "| **Single Linkage**   | Min distance between points in two clusters | Can form long “chain” clusters |\n",
    "| **Complete Linkage** | Max distance between points                 | Produces compact clusters      |\n",
    "| **Average Linkage**  | Mean distance between points                | Balanced result                |\n",
    "| **Ward’s Method**    | Minimizes total variance (most used)        | Similar to K-Means effect      |\n"
   ]
  },
  {
   "cell_type": "markdown",
   "id": "92b26d33",
   "metadata": {},
   "source": [
    "**🧩 Order of Implementation**\n",
    "\n",
    "### 1. Import Libraries\n",
    "```python\n",
    "import numpy as np\n",
    "import pandas as pd\n",
    "import matplotlib.pyplot as plt\n",
    "from scipy.cluster.hierarchy import linkage, dendrogram, fcluster\n",
    "from sklearn.preprocessing import StandardScaler\n",
    "````\n",
    "\n",
    "---\n",
    "\n",
    "### 2. Load Dataset\n",
    "\n",
    "*(Load your data from CSV or any source)*\n",
    "\n",
    "---\n",
    "\n",
    "### 3. Preprocess Data\n",
    "\n",
    "* Handle missing values\n",
    "* Scale features (optional but recommended)\n",
    "\n",
    "---\n",
    "\n",
    "### 4. Compute Linkage Matrix\n",
    "\n",
    "```python\n",
    "Z = linkage(X, method='ward')  # Options: 'ward', 'complete', 'average', 'single'\n",
    "```\n",
    "\n",
    "---\n",
    "\n",
    "### 5. Plot Dendrogram\n",
    "\n",
    "```python\n",
    "plt.figure(figsize=(10, 6))\n",
    "dendrogram(Z)\n",
    "plt.title(\"Dendrogram\")\n",
    "plt.xlabel(\"Data Points\")\n",
    "plt.ylabel(\"Euclidean Distance\")\n",
    "plt.show()\n",
    "```\n",
    "\n",
    "---\n",
    "\n",
    "### 6. Choose Number of Clusters and Cut the Tree\n",
    "\n",
    "```python\n",
    "from scipy.cluster.hierarchy import fcluster\n",
    "clusters = fcluster(Z, t=3, criterion='maxclust')  # Example: 3 clusters\n",
    "```\n",
    "\n",
    "---\n",
    "\n",
    "### 7. Analyze and Visualize Clusters\n",
    "\n",
    "```python\n",
    "plt.scatter(X[:, 0], X[:, 1], c=clusters, cmap='rainbow')\n",
    "plt.title(\"Hierarchical Clustering Results\")\n",
    "plt.show()\n",
    "```\n",
    "\n",
    "---"
   ]
  },
  {
   "cell_type": "code",
   "execution_count": null,
   "id": "e0938b4e",
   "metadata": {},
   "outputs": [],
   "source": []
  }
 ],
 "metadata": {
  "language_info": {
   "name": "python"
  }
 },
 "nbformat": 4,
 "nbformat_minor": 5
}
